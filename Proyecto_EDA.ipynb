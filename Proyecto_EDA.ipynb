{
  "nbformat": 4,
  "nbformat_minor": 0,
  "metadata": {
    "colab": {
      "provenance": [],
      "authorship_tag": "ABX9TyPjo3JXQCiAbfHO7yH7322V",
      "include_colab_link": true
    },
    "kernelspec": {
      "name": "python3",
      "display_name": "Python 3"
    },
    "language_info": {
      "name": "python"
    }
  },
  "cells": [
    {
      "cell_type": "markdown",
      "metadata": {
        "id": "view-in-github",
        "colab_type": "text"
      },
      "source": [
        "<a href=\"https://colab.research.google.com/github/afdelgadop/Modelo-de-prediccion-de-las-vacunas-contra-la-influenza-H1N1-y-la-influenza-estacional/blob/main/Proyecto_EDA.ipynb\" target=\"_parent\"><img src=\"https://colab.research.google.com/assets/colab-badge.svg\" alt=\"Open In Colab\"/></a>"
      ]
    },
    {
      "cell_type": "code",
      "execution_count": null,
      "metadata": {
        "id": "ZYojfyPnF8yT"
      },
      "outputs": [],
      "source": [
        "## Liberías\n",
        "import pandas as pd\n",
        "import numpy as np\n",
        "import seaborn as sns\n",
        "import matplotlib.pyplot as plt\n"
      ]
    },
    {
      "cell_type": "code",
      "source": [
        "data_og = pd.read_csv('/content/listings.csv')"
      ],
      "metadata": {
        "id": "DQMAxPDC550N"
      },
      "execution_count": null,
      "outputs": []
    }
  ]
}